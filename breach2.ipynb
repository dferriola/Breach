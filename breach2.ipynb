{
 "cells": [
  {
   "cell_type": "code",
   "execution_count": 24,
   "metadata": {
    "collapsed": true
   },
   "outputs": [],
   "source": [
    "import pandas as pd\n",
    "import re\n",
    "import numpy as np\n",
    "import matplotlib.pyplot as plt\n",
    "import datetime\n",
    "from datetime import datetime\n",
    "from mpl_toolkits.basemap import Basemap\n",
    "plt.style.use('seaborn-colorblind')\n",
    "%matplotlib inline\n",
    "%config IPCompleter.greedy=True"
   ]
  },
  {
   "cell_type": "code",
   "execution_count": 3,
   "metadata": {
    "collapsed": true
   },
   "outputs": [],
   "source": [
    "df=pd.read_csv('breach_report.csv')"
   ]
  },
  {
   "cell_type": "code",
   "execution_count": 4,
   "metadata": {
    "collapsed": false,
    "scrolled": true
   },
   "outputs": [
    {
     "data": {
      "text/plain": [
       "Name of Covered Entity               object\n",
       "State                                object\n",
       "Covered Entity Type                  object\n",
       "Individuals Affected                float64\n",
       "Breach Submission Date               object\n",
       "Type of Breach                       object\n",
       "Location of Breached Information     object\n",
       "Business Associate Present           object\n",
       "Web Description                      object\n",
       "Day                                   int64\n",
       "Month                                 int64\n",
       "Year                                  int64\n",
       "dtype: object"
      ]
     },
     "execution_count": 4,
     "metadata": {},
     "output_type": "execute_result"
    }
   ],
   "source": [
    "df.dtypes"
   ]
  },
  {
   "cell_type": "code",
   "execution_count": 5,
   "metadata": {
    "collapsed": false
   },
   "outputs": [
    {
     "data": {
      "text/plain": [
       "count    1.646000e+03\n",
       "mean     1.024573e+05\n",
       "std      1.997579e+06\n",
       "min      5.000000e+02\n",
       "25%      9.982500e+02\n",
       "50%      2.300000e+03\n",
       "75%      7.599750e+03\n",
       "max      7.880000e+07\n",
       "Name: Individuals Affected, dtype: float64"
      ]
     },
     "execution_count": 5,
     "metadata": {},
     "output_type": "execute_result"
    }
   ],
   "source": [
    "df['Individuals Affected'].describe()"
   ]
  },
  {
   "cell_type": "code",
   "execution_count": 6,
   "metadata": {
    "collapsed": false
   },
   "outputs": [
    {
     "data": {
      "text/plain": [
       "count      1655\n",
       "unique       28\n",
       "top       Theft\n",
       "freq        713\n",
       "Name: Type of Breach, dtype: object"
      ]
     },
     "execution_count": 6,
     "metadata": {},
     "output_type": "execute_result"
    }
   ],
   "source": [
    "df['Type of Breach'].describe()"
   ]
  },
  {
   "cell_type": "code",
   "execution_count": 7,
   "metadata": {
    "collapsed": false
   },
   "outputs": [
    {
     "data": {
      "text/plain": [
       "array(['Theft', 'Loss', 'Other', nan, 'Hacking/IT Incident', 'Loss, Theft',\n",
       "       'Improper Disposal', 'Improper Disposal, Loss', 'Other, Theft',\n",
       "       'Loss, Other', 'Unauthorized Access/Disclosure',\n",
       "       'Improper Disposal, Loss, Theft', 'Unknown',\n",
       "       'Theft, Unauthorized Access/Disclosure',\n",
       "       'Hacking/IT Incident, Unauthorized Access/Disclosure',\n",
       "       'Other, Unauthorized Access/Disclosure',\n",
       "       'Hacking/IT Incident, Other', 'Other, Unknown',\n",
       "       'Loss, Unauthorized Access/Disclosure, Unknown',\n",
       "       'Hacking/IT Incident, Other, Unauthorized Access/Disclosure',\n",
       "       'Hacking/IT Incident, Theft, Unauthorized Access/Disclosure',\n",
       "       'Improper Disposal, Theft', 'Hacking/IT Incident, Theft',\n",
       "       'Loss, Other, Theft',\n",
       "       'Other, Theft, Unauthorized Access/Disclosure',\n",
       "       'Improper Disposal, Theft, Unauthorized Access/Disclosure',\n",
       "       'Loss, Unknown', 'Loss, Unauthorized Access/Disclosure',\n",
       "       'Improper Disposal, Unauthorized Access/Disclosure'], dtype=object)"
      ]
     },
     "execution_count": 7,
     "metadata": {},
     "output_type": "execute_result"
    }
   ],
   "source": [
    "df['Type of Breach'].unique()"
   ]
  },
  {
   "cell_type": "code",
   "execution_count": 8,
   "metadata": {
    "collapsed": false
   },
   "outputs": [
    {
     "data": {
      "text/plain": [
       "count                    1658\n",
       "unique                      4\n",
       "top       Healthcare Provider\n",
       "freq                     1173\n",
       "Name: Covered Entity Type, dtype: object"
      ]
     },
     "execution_count": 8,
     "metadata": {},
     "output_type": "execute_result"
    }
   ],
   "source": [
    "df['Covered Entity Type'].describe()"
   ]
  },
  {
   "cell_type": "code",
   "execution_count": 9,
   "metadata": {
    "collapsed": false
   },
   "outputs": [
    {
     "data": {
      "text/plain": [
       "array(['Healthcare Provider', 'Health Plan', 'Business Associate',\n",
       "       'Healthcare Clearing House'], dtype=object)"
      ]
     },
     "execution_count": 9,
     "metadata": {},
     "output_type": "execute_result"
    }
   ],
   "source": [
    "df['Covered Entity Type'].unique()"
   ]
  },
  {
   "cell_type": "code",
   "execution_count": 10,
   "metadata": {
    "collapsed": true
   },
   "outputs": [],
   "source": [
    "indices = df['Covered Entity Type'] == 'Healthcare Provider'"
   ]
  },
  {
   "cell_type": "code",
   "execution_count": 11,
   "metadata": {
    "collapsed": true
   },
   "outputs": [],
   "source": [
    "HC_provider=df.loc[indices,:]##extract new data frame"
   ]
  },
  {
   "cell_type": "code",
   "execution_count": 12,
   "metadata": {
    "collapsed": false
   },
   "outputs": [
    {
     "data": {
      "text/html": [
       "<div>\n",
       "<table border=\"1\" class=\"dataframe\">\n",
       "  <thead>\n",
       "    <tr style=\"text-align: right;\">\n",
       "      <th></th>\n",
       "      <th>Name of Covered Entity</th>\n",
       "      <th>State</th>\n",
       "      <th>Covered Entity Type</th>\n",
       "      <th>Individuals Affected</th>\n",
       "      <th>Breach Submission Date</th>\n",
       "      <th>Type of Breach</th>\n",
       "      <th>Location of Breached Information</th>\n",
       "      <th>Business Associate Present</th>\n",
       "      <th>Web Description</th>\n",
       "      <th>Day</th>\n",
       "      <th>Month</th>\n",
       "      <th>Year</th>\n",
       "    </tr>\n",
       "  </thead>\n",
       "  <tbody>\n",
       "    <tr>\n",
       "      <th>0</th>\n",
       "      <td>Brooke Army Medical Center</td>\n",
       "      <td>TX</td>\n",
       "      <td>Healthcare Provider</td>\n",
       "      <td>1000.0</td>\n",
       "      <td>10/21/09</td>\n",
       "      <td>Theft</td>\n",
       "      <td>Paper/Films</td>\n",
       "      <td>No</td>\n",
       "      <td>A binder containing the protected health infor...</td>\n",
       "      <td>21</td>\n",
       "      <td>10</td>\n",
       "      <td>2009</td>\n",
       "    </tr>\n",
       "    <tr>\n",
       "      <th>1</th>\n",
       "      <td>Mid America Kidney Stone Association, LLC</td>\n",
       "      <td>MO</td>\n",
       "      <td>Healthcare Provider</td>\n",
       "      <td>1000.0</td>\n",
       "      <td>10/28/09</td>\n",
       "      <td>Theft</td>\n",
       "      <td>Network Server</td>\n",
       "      <td>No</td>\n",
       "      <td>Five desktop computers containing unencrypted ...</td>\n",
       "      <td>28</td>\n",
       "      <td>10</td>\n",
       "      <td>2009</td>\n",
       "    </tr>\n",
       "    <tr>\n",
       "      <th>2</th>\n",
       "      <td>Alaska Department of Health and Social Services</td>\n",
       "      <td>AK</td>\n",
       "      <td>Healthcare Provider</td>\n",
       "      <td>501.0</td>\n",
       "      <td>10/30/09</td>\n",
       "      <td>Theft</td>\n",
       "      <td>Other, Other Portable Electronic Device</td>\n",
       "      <td>No</td>\n",
       "      <td>\\N</td>\n",
       "      <td>30</td>\n",
       "      <td>10</td>\n",
       "      <td>2009</td>\n",
       "    </tr>\n",
       "    <tr>\n",
       "      <th>4</th>\n",
       "      <td>Mark D. Lurie, MD</td>\n",
       "      <td>CA</td>\n",
       "      <td>Healthcare Provider</td>\n",
       "      <td>5166.0</td>\n",
       "      <td>11/20/09</td>\n",
       "      <td>Theft</td>\n",
       "      <td>Desktop Computer</td>\n",
       "      <td>No</td>\n",
       "      <td>A shared Computer that was used for backup was...</td>\n",
       "      <td>20</td>\n",
       "      <td>11</td>\n",
       "      <td>2009</td>\n",
       "    </tr>\n",
       "    <tr>\n",
       "      <th>5</th>\n",
       "      <td>L. Douglas Carlson, M.D.</td>\n",
       "      <td>CA</td>\n",
       "      <td>Healthcare Provider</td>\n",
       "      <td>5257.0</td>\n",
       "      <td>11/20/09</td>\n",
       "      <td>Theft</td>\n",
       "      <td>Desktop Computer</td>\n",
       "      <td>No</td>\n",
       "      <td>A shared Computer that was used for backup was...</td>\n",
       "      <td>20</td>\n",
       "      <td>11</td>\n",
       "      <td>2009</td>\n",
       "    </tr>\n",
       "  </tbody>\n",
       "</table>\n",
       "</div>"
      ],
      "text/plain": [
       "                            Name of Covered Entity State  Covered Entity Type  \\\n",
       "0                       Brooke Army Medical Center    TX  Healthcare Provider   \n",
       "1        Mid America Kidney Stone Association, LLC    MO  Healthcare Provider   \n",
       "2  Alaska Department of Health and Social Services    AK  Healthcare Provider   \n",
       "4                                Mark D. Lurie, MD    CA  Healthcare Provider   \n",
       "5                         L. Douglas Carlson, M.D.    CA  Healthcare Provider   \n",
       "\n",
       "   Individuals Affected Breach Submission Date Type of Breach  \\\n",
       "0                1000.0               10/21/09          Theft   \n",
       "1                1000.0               10/28/09          Theft   \n",
       "2                 501.0               10/30/09          Theft   \n",
       "4                5166.0               11/20/09          Theft   \n",
       "5                5257.0               11/20/09          Theft   \n",
       "\n",
       "          Location of Breached Information Business Associate Present  \\\n",
       "0                              Paper/Films                         No   \n",
       "1                           Network Server                         No   \n",
       "2  Other, Other Portable Electronic Device                         No   \n",
       "4                         Desktop Computer                         No   \n",
       "5                         Desktop Computer                         No   \n",
       "\n",
       "                                     Web Description  Day  Month  Year  \n",
       "0  A binder containing the protected health infor...   21     10  2009  \n",
       "1  Five desktop computers containing unencrypted ...   28     10  2009  \n",
       "2                                                 \\N   30     10  2009  \n",
       "4  A shared Computer that was used for backup was...   20     11  2009  \n",
       "5  A shared Computer that was used for backup was...   20     11  2009  "
      ]
     },
     "execution_count": 12,
     "metadata": {},
     "output_type": "execute_result"
    }
   ],
   "source": [
    "HC_provider.head()"
   ]
  },
  {
   "cell_type": "code",
   "execution_count": 13,
   "metadata": {
    "collapsed": true
   },
   "outputs": [],
   "source": [
    "indices = df['Covered Entity Type'] == 'Health Plan'"
   ]
  },
  {
   "cell_type": "code",
   "execution_count": 14,
   "metadata": {
    "collapsed": true
   },
   "outputs": [],
   "source": [
    "healthplan=df.loc[indices,:]##extract new data frame"
   ]
  },
  {
   "cell_type": "code",
   "execution_count": 15,
   "metadata": {
    "collapsed": false
   },
   "outputs": [
    {
     "data": {
      "text/html": [
       "<div>\n",
       "<table border=\"1\" class=\"dataframe\">\n",
       "  <thead>\n",
       "    <tr style=\"text-align: right;\">\n",
       "      <th></th>\n",
       "      <th>Name of Covered Entity</th>\n",
       "      <th>State</th>\n",
       "      <th>Covered Entity Type</th>\n",
       "      <th>Individuals Affected</th>\n",
       "      <th>Breach Submission Date</th>\n",
       "      <th>Type of Breach</th>\n",
       "      <th>Location of Breached Information</th>\n",
       "      <th>Business Associate Present</th>\n",
       "      <th>Web Description</th>\n",
       "      <th>Day</th>\n",
       "      <th>Month</th>\n",
       "      <th>Year</th>\n",
       "    </tr>\n",
       "  </thead>\n",
       "  <tbody>\n",
       "    <tr>\n",
       "      <th>3</th>\n",
       "      <td>Health Services for Children with Special Need...</td>\n",
       "      <td>DC</td>\n",
       "      <td>Health Plan</td>\n",
       "      <td>3800.0</td>\n",
       "      <td>11/17/09</td>\n",
       "      <td>Loss</td>\n",
       "      <td>Laptop</td>\n",
       "      <td>No</td>\n",
       "      <td>A laptop was lost by an employee while in tran...</td>\n",
       "      <td>17</td>\n",
       "      <td>11</td>\n",
       "      <td>2009</td>\n",
       "    </tr>\n",
       "    <tr>\n",
       "      <th>38</th>\n",
       "      <td>State of TN, Bureau of TennCare</td>\n",
       "      <td>TN</td>\n",
       "      <td>Health Plan</td>\n",
       "      <td>3900.0</td>\n",
       "      <td>2/19/10</td>\n",
       "      <td>Theft</td>\n",
       "      <td>Paper/Films</td>\n",
       "      <td>No</td>\n",
       "      <td>The covered entity (CE) mailed the wrong infor...</td>\n",
       "      <td>19</td>\n",
       "      <td>2</td>\n",
       "      <td>2010</td>\n",
       "    </tr>\n",
       "    <tr>\n",
       "      <th>44</th>\n",
       "      <td>Wyoming Department of Health</td>\n",
       "      <td>WY</td>\n",
       "      <td>Health Plan</td>\n",
       "      <td>9023.0</td>\n",
       "      <td>3/2/10</td>\n",
       "      <td>NaN</td>\n",
       "      <td>Network Server</td>\n",
       "      <td>No</td>\n",
       "      <td>\\N</td>\n",
       "      <td>2</td>\n",
       "      <td>3</td>\n",
       "      <td>2010</td>\n",
       "    </tr>\n",
       "    <tr>\n",
       "      <th>45</th>\n",
       "      <td>Thrivent Financial for Lutherans</td>\n",
       "      <td>WI</td>\n",
       "      <td>Health Plan</td>\n",
       "      <td>9500.0</td>\n",
       "      <td>3/3/10</td>\n",
       "      <td>Theft</td>\n",
       "      <td>Laptop</td>\n",
       "      <td>No</td>\n",
       "      <td>On January 29, 2010, there was a break-in at o...</td>\n",
       "      <td>3</td>\n",
       "      <td>3</td>\n",
       "      <td>2010</td>\n",
       "    </tr>\n",
       "    <tr>\n",
       "      <th>61</th>\n",
       "      <td>Affinity Health Plan, Inc.</td>\n",
       "      <td>NY</td>\n",
       "      <td>Health Plan</td>\n",
       "      <td>344579.0</td>\n",
       "      <td>4/14/10</td>\n",
       "      <td>Theft</td>\n",
       "      <td>Other</td>\n",
       "      <td>No</td>\n",
       "      <td>Under a settlement with the U.S. Department of...</td>\n",
       "      <td>14</td>\n",
       "      <td>4</td>\n",
       "      <td>2010</td>\n",
       "    </tr>\n",
       "  </tbody>\n",
       "</table>\n",
       "</div>"
      ],
      "text/plain": [
       "                               Name of Covered Entity State  \\\n",
       "3   Health Services for Children with Special Need...    DC   \n",
       "38                    State of TN, Bureau of TennCare    TN   \n",
       "44                       Wyoming Department of Health    WY   \n",
       "45                   Thrivent Financial for Lutherans    WI   \n",
       "61                         Affinity Health Plan, Inc.    NY   \n",
       "\n",
       "   Covered Entity Type  Individuals Affected Breach Submission Date  \\\n",
       "3          Health Plan                3800.0               11/17/09   \n",
       "38         Health Plan                3900.0                2/19/10   \n",
       "44         Health Plan                9023.0                 3/2/10   \n",
       "45         Health Plan                9500.0                 3/3/10   \n",
       "61         Health Plan              344579.0                4/14/10   \n",
       "\n",
       "   Type of Breach Location of Breached Information Business Associate Present  \\\n",
       "3            Loss                           Laptop                         No   \n",
       "38          Theft                      Paper/Films                         No   \n",
       "44            NaN                   Network Server                         No   \n",
       "45          Theft                           Laptop                         No   \n",
       "61          Theft                            Other                         No   \n",
       "\n",
       "                                      Web Description  Day  Month  Year  \n",
       "3   A laptop was lost by an employee while in tran...   17     11  2009  \n",
       "38  The covered entity (CE) mailed the wrong infor...   19      2  2010  \n",
       "44                                                 \\N    2      3  2010  \n",
       "45  On January 29, 2010, there was a break-in at o...    3      3  2010  \n",
       "61  Under a settlement with the U.S. Department of...   14      4  2010  "
      ]
     },
     "execution_count": 15,
     "metadata": {},
     "output_type": "execute_result"
    }
   ],
   "source": [
    "healthplan.head()"
   ]
  },
  {
   "cell_type": "code",
   "execution_count": 16,
   "metadata": {
    "collapsed": false
   },
   "outputs": [
    {
     "data": {
      "text/plain": [
       "<matplotlib.axes._subplots.AxesSubplot at 0x112e40310>"
      ]
     },
     "execution_count": 16,
     "metadata": {},
     "output_type": "execute_result"
    },
    {
     "data": {
      "image/png": "[encoded data removed]",
      "text/plain": [
       "<matplotlib.figure.Figure at 0x112e3de50>"
      ]
     },
     "metadata": {},
     "output_type": "display_data"
    }
   ],
   "source": [
    "healthplan.plot(kind='hist',bins=50, alpha=.3)"
   ]
  },
  {
   "cell_type": "code",
   "execution_count": 17,
   "metadata": {
    "collapsed": true
   },
   "outputs": [],
   "source": [
    "loc=df['Location of Breached Information'].value_counts()"
   ]
  },
  {
   "cell_type": "code",
   "execution_count": 18,
   "metadata": {
    "collapsed": false
   },
   "outputs": [
    {
     "data": {
      "text/plain": [
       "<matplotlib.axes._subplots.AxesSubplot at 0x11645ced0>"
      ]
     },
     "execution_count": 18,
     "metadata": {},
     "output_type": "execute_result"
    },
    {
     "data": {
      "image/png": "[encoded data removed]",
      "text/plain": [
       "<matplotlib.figure.Figure at 0x1045c0210>"
      ]
     },
     "metadata": {},
     "output_type": "display_data"
    }
   ],
   "source": [
    "df.plot(y='Individuals Affected', kind='box')"
   ]
  },
  {
   "cell_type": "code",
   "execution_count": 19,
   "metadata": {
    "collapsed": false
   },
   "outputs": [
    {
     "data": {
      "text/plain": [
       "<matplotlib.axes._subplots.AxesSubplot at 0x116b114d0>"
      ]
     },
     "execution_count": 19,
     "metadata": {},
     "output_type": "execute_result"
    },
    {
     "data": {
      "image/png": "[encoded data removed]",
      "text/plain": [
       "<matplotlib.figure.Figure at 0x1170d5c50>"
      ]
     },
     "metadata": {},
     "output_type": "display_data"
    }
   ],
   "source": [
    "healthplan.plot(x='Type of Breach', kind='hist')"
   ]
  },
  {
   "cell_type": "code",
   "execution_count": 20,
   "metadata": {
    "collapsed": true
   },
   "outputs": [],
   "source": [
    "describe_all = df.describe()"
   ]
  },
  {
   "cell_type": "code",
   "execution_count": 21,
   "metadata": {
    "collapsed": false
   },
   "outputs": [
    {
     "name": "stdout",
     "output_type": "stream",
     "text": [
      "       Individuals Affected          Day        Month         Year\n",
      "count          1.646000e+03  1658.000000  1658.000000  1658.000000\n",
      "mean           1.024573e+05    15.951146     6.413752  2013.174910\n",
      "std            1.997579e+06     8.706266     3.351304     1.978349\n",
      "min            5.000000e+02     1.000000     1.000000  2009.000000\n",
      "25%            9.982500e+02     9.000000     4.000000  2012.000000\n",
      "50%            2.300000e+03    15.000000     6.000000  2013.000000\n",
      "75%            7.599750e+03    23.750000     9.000000  2015.000000\n",
      "max            7.880000e+07    31.000000    12.000000  2016.000000\n"
     ]
    }
   ],
   "source": [
    "print(describe_all)"
   ]
  },
  {
   "cell_type": "code",
   "execution_count": 22,
   "metadata": {
    "collapsed": true
   },
   "outputs": [],
   "source": [
    "describe_healthplan=healthplan.describe()"
   ]
  },
  {
   "cell_type": "code",
   "execution_count": 23,
   "metadata": {
    "collapsed": false
   },
   "outputs": [],
   "source": [
    "describe_hcprovider=HC_provider.describe()"
   ]
  },
  {
   "cell_type": "code",
   "execution_count": 25,
   "metadata": {
    "collapsed": true
   },
   "outputs": [],
   "source": [
    "wd=df['Web Description']"
   ]
  },
  {
   "cell_type": "code",
   "execution_count": 26,
   "metadata": {
    "collapsed": false
   },
   "outputs": [
    {
     "data": {
      "text/plain": [
       "0    A binder containing the protected health infor...\n",
       "1    Five desktop computers containing unencrypted ...\n",
       "2                                                   \\N\n",
       "3    A laptop was lost by an employee while in tran...\n",
       "4    A shared Computer that was used for backup was...\n",
       "Name: Web Description, dtype: object"
      ]
     },
     "execution_count": 26,
     "metadata": {},
     "output_type": "execute_result"
    }
   ],
   "source": [
    "wd.head()"
   ]
  },
  {
   "cell_type": "code",
   "execution_count": 27,
   "metadata": {
    "collapsed": false
   },
   "outputs": [
    {
     "data": {
      "text/plain": [
       "count     1271\n",
       "unique     666\n",
       "top         \\N\n",
       "freq       598\n",
       "Name: Web Description, dtype: object"
      ]
     },
     "execution_count": 27,
     "metadata": {},
     "output_type": "execute_result"
    }
   ],
   "source": [
    "wd.describe()"
   ]
  },
  {
   "cell_type": "code",
   "execution_count": 37,
   "metadata": {
    "collapsed": false
   },
   "outputs": [
    {
     "data": {
      "text/plain": [
       "count     1271\n",
       "unique     666\n",
       "top          \\\n",
       "freq       598\n",
       "Name: Web Description, dtype: object"
      ]
     },
     "execution_count": 37,
     "metadata": {},
     "output_type": "execute_result"
    }
   ],
   "source": [
    "wd2.describe()"
   ]
  },
  {
   "cell_type": "code",
   "execution_count": 68,
   "metadata": {
    "collapsed": false
   },
   "outputs": [],
   "source": [
    "from nltk.tokenize import word_tokenize\n",
    "from collections import Counter"
   ]
  },
  {
   "cell_type": "code",
   "execution_count": 70,
   "metadata": {
    "collapsed": true
   },
   "outputs": [],
   "source": [
    "df2=pd.read_csv('webdes.csv')"
   ]
  },
  {
   "cell_type": "code",
   "execution_count": 71,
   "metadata": {
    "collapsed": false
   },
   "outputs": [
    {
     "data": {
      "text/html": [
       "<div>\n",
       "<table border=\"1\" class=\"dataframe\">\n",
       "  <thead>\n",
       "    <tr style=\"text-align: right;\">\n",
       "      <th></th>\n",
       "      <th>Web Description</th>\n",
       "      <th>Unnamed: 1</th>\n",
       "    </tr>\n",
       "  </thead>\n",
       "  <tbody>\n",
       "    <tr>\n",
       "      <th>count</th>\n",
       "      <td>1610</td>\n",
       "      <td>10</td>\n",
       "    </tr>\n",
       "    <tr>\n",
       "      <th>unique</th>\n",
       "      <td>752</td>\n",
       "      <td>10</td>\n",
       "    </tr>\n",
       "    <tr>\n",
       "      <th>top</th>\n",
       "      <td>\\N</td>\n",
       "      <td>A training program covering the requirements o...</td>\n",
       "    </tr>\n",
       "    <tr>\n",
       "      <th>freq</th>\n",
       "      <td>598</td>\n",
       "      <td>1</td>\n",
       "    </tr>\n",
       "  </tbody>\n",
       "</table>\n",
       "</div>"
      ],
      "text/plain": [
       "       Web Description                                         Unnamed: 1\n",
       "count             1610                                                 10\n",
       "unique             752                                                 10\n",
       "top                 \\N  A training program covering the requirements o...\n",
       "freq               598                                                  1"
      ]
     },
     "execution_count": 71,
     "metadata": {},
     "output_type": "execute_result"
    }
   ],
   "source": [
    "df2.describe()"
   ]
  },
  {
   "cell_type": "code",
   "execution_count": 73,
   "metadata": {
    "collapsed": false
   },
   "outputs": [
    {
     "data": {
      "text/plain": [
       "Web Description    object\n",
       "Unnamed: 1         object\n",
       "dtype: object"
      ]
     },
     "execution_count": 73,
     "metadata": {},
     "output_type": "execute_result"
    }
   ],
   "source": [
    "df2.dtypes"
   ]
  },
  {
   "cell_type": "code",
   "execution_count": null,
   "metadata": {
    "collapsed": true
   },
   "outputs": [],
   "source": []
  }
 ],
 "metadata": {
  "anaconda-cloud": {},
  "kernelspec": {
   "display_name": "Python [default]",
   "language": "python",
   "name": "python2"
  },
  "language_info": {
   "codemirror_mode": {
    "name": "ipython",
    "version": 2
   },
   "file_extension": ".py",
   "mimetype": "text/x-python",
   "name": "python",
   "nbconvert_exporter": "python",
   "pygments_lexer": "ipython2",
   "version": "2.7.12"
  }
 },
 "nbformat": 4,
 "nbformat_minor": 1
}
